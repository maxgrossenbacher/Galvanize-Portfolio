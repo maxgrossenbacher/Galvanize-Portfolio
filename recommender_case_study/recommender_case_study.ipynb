{
 "cells": [
  {
   "cell_type": "markdown",
   "metadata": {},
   "source": [
    "### Loading and parsing datasets"
   ]
  },
  {
   "cell_type": "markdown",
   "metadata": {},
   "source": [
    "No we are ready to read in each of the files and create an RDD consisting of parsed lines.  "
   ]
  },
  {
   "cell_type": "markdown",
   "metadata": {},
   "source": [
    "Each line in the ratings dataset (`ratings.csv`) is formatted as:  \n",
    "\n",
    "`userId,movieId,rating,timestamp`  \n",
    "\n",
    "Each line in the movies (`movies.csv`) dataset is formatted as:  \n",
    "\n",
    "`movieId,title,genres`  \n",
    "\n",
    "Were *genres* has the format:  \n",
    "\n",
    "`Genre1|Genre2|Genre3...`\n",
    "\n",
    "The tags file (`tags.csv`) has the format:  \n",
    "\n",
    "`userId,movieId,tag,timestamp`  \n",
    "\n",
    "And finally, the `links.csv` file has the format:  \n",
    "\n",
    "`movieId,imdbId,tmdbId`  "
   ]
  },
  {
   "cell_type": "markdown",
   "metadata": {},
   "source": [
    "The format of these files is uniform and simple, so we can use Python [`split()`](https://docs.python.org/2/library/stdtypes.html#str.split) to parse their lines once they are loaded into RDDs. Parsing the movies and ratings files yields two RDDs:  \n",
    "\n",
    "* For each line in the ratings dataset, we create a tuple of `(UserID, MovieID, Rating)`. We drop the *timestamp* because we do not need it for this recommender.  \n",
    "* For each line in the movies dataset, we create a tuple of `(MovieID, Title)`. We drop the *genres* because we do not use them for this recommender.  "
   ]
  },
  {
   "cell_type": "markdown",
   "metadata": {},
   "source": [
    "So let's load the raw ratings data. We need to filter out the header, included in each file.    "
   ]
  },
  {
   "cell_type": "code",
   "execution_count": 2,
   "metadata": {
    "collapsed": true
   },
   "outputs": [],
   "source": [
    "import pyspark as ps\n",
    "from pyspark.sql.types import *\n",
    "\n",
    "spark = ps.sql.SparkSession.builder \\\n",
    "    .master(\"local[4]\") \\\n",
    "    .appName(\"case-study\") \\\n",
    "    .getOrCreate()"
   ]
  },
  {
   "cell_type": "code",
   "execution_count": 3,
   "metadata": {
    "collapsed": true
   },
   "outputs": [],
   "source": [
    "movies_full_df = spark.read.csv('data/movies/movies.csv', inferSchema=True, header=True)\n",
    "ratings_full_df = spark.read.csv('data/movies/ratings.csv', inferSchema=True, header=True)\n",
    "# tags_full_df = spark.read.csv('data/movies/tags.csv', inferSchema=True, header=True)\n",
    "# links_full_df = spark.read.csv('data/movies/links.csv', inferSchema=True, header=True)"
   ]
  },
  {
   "cell_type": "code",
   "execution_count": 4,
   "metadata": {},
   "outputs": [
    {
     "name": "stdout",
     "output_type": "stream",
     "text": [
      "[Row(movieId=1, title='Toy Story (1995)', genres='Adventure|Animation|Children|Comedy|Fantasy'), Row(movieId=2, title='Jumanji (1995)', genres='Adventure|Children|Fantasy'), Row(movieId=3, title='Grumpier Old Men (1995)', genres='Comedy|Romance'), Row(movieId=4, title='Waiting to Exhale (1995)', genres='Comedy|Drama|Romance'), Row(movieId=5, title='Father of the Bride Part II (1995)', genres='Comedy')]\n",
      "[Row(userId=1, movieId=31, rating=2.5, timestamp=1260759144), Row(userId=1, movieId=1029, rating=3.0, timestamp=1260759179), Row(userId=1, movieId=1061, rating=3.0, timestamp=1260759182), Row(userId=1, movieId=1129, rating=2.0, timestamp=1260759185), Row(userId=1, movieId=1172, rating=4.0, timestamp=1260759205)]\n"
     ]
    }
   ],
   "source": [
    "print(movies_full_df.take(5))\n",
    "print(ratings_full_df.take(5))\n",
    "# print(tags_full_df.take(5))\n",
    "# print(links_full_df.take(5))\n",
    "# print(rating_full_df.printSchema())"
   ]
  },
  {
   "cell_type": "code",
   "execution_count": 5,
   "metadata": {
    "collapsed": true
   },
   "outputs": [],
   "source": [
    "with_replacement = False\n",
    "movies_df = movies_full_df.sample(with_replacement, 0.1)"
   ]
  },
  {
   "cell_type": "code",
   "execution_count": 6,
   "metadata": {},
   "outputs": [
    {
     "name": "stdout",
     "output_type": "stream",
     "text": [
      "<class 'pyspark.sql.dataframe.DataFrame'>\n",
      "+-------+--------------------+--------------------+\n",
      "|movieId|               title|              genres|\n",
      "+-------+--------------------+--------------------+\n",
      "|      1|    Toy Story (1995)|Adventure|Animati...|\n",
      "|      2|      Jumanji (1995)|Adventure|Childre...|\n",
      "|      3|Grumpier Old Men ...|      Comedy|Romance|\n",
      "|      4|Waiting to Exhale...|Comedy|Drama|Romance|\n",
      "|      5|Father of the Bri...|              Comedy|\n",
      "|      6|         Heat (1995)|Action|Crime|Thri...|\n",
      "|      7|      Sabrina (1995)|      Comedy|Romance|\n",
      "|      8| Tom and Huck (1995)|  Adventure|Children|\n",
      "|      9| Sudden Death (1995)|              Action|\n",
      "|     10|    GoldenEye (1995)|Action|Adventure|...|\n",
      "|     11|American Presiden...|Comedy|Drama|Romance|\n",
      "|     12|Dracula: Dead and...|       Comedy|Horror|\n",
      "|     13|        Balto (1995)|Adventure|Animati...|\n",
      "|     14|        Nixon (1995)|               Drama|\n",
      "|     15|Cutthroat Island ...|Action|Adventure|...|\n",
      "|     16|       Casino (1995)|         Crime|Drama|\n",
      "|     17|Sense and Sensibi...|       Drama|Romance|\n",
      "|     18|   Four Rooms (1995)|              Comedy|\n",
      "|     19|Ace Ventura: When...|              Comedy|\n",
      "|     20|  Money Train (1995)|Action|Comedy|Cri...|\n",
      "+-------+--------------------+--------------------+\n",
      "only showing top 20 rows\n",
      "\n",
      "<class 'pyspark.sql.dataframe.DataFrame'>\n",
      "+-------+--------------------+--------------------+\n",
      "|movieId|               title|              genres|\n",
      "+-------+--------------------+--------------------+\n",
      "|      6|         Heat (1995)|Action|Crime|Thri...|\n",
      "|     16|       Casino (1995)|         Crime|Drama|\n",
      "|     21|   Get Shorty (1995)|Comedy|Crime|Thri...|\n",
      "|     31|Dangerous Minds (...|               Drama|\n",
      "|     34|         Babe (1995)|      Children|Drama|\n",
      "|     38| It Takes Two (1995)|     Children|Comedy|\n",
      "|     58|Postman, The (Pos...|Comedy|Drama|Romance|\n",
      "|     68|French Twist (Gaz...|      Comedy|Romance|\n",
      "|    103|Unforgettable (1996)|Mystery|Sci-Fi|Th...|\n",
      "|    107|Muppet Treasure I...|Adventure|Childre...|\n",
      "|    116|Anne Frank Rememb...|         Documentary|\n",
      "|    140|Up Close and Pers...|       Drama|Romance|\n",
      "|    141|Birdcage, The (1996)|              Comedy|\n",
      "|    151|      Rob Roy (1995)|Action|Drama|Roma...|\n",
      "|    164|Devil in a Blue D...|Crime|Film-Noir|M...|\n",
      "|    167|Feast of July (1995)|               Drama|\n",
      "|    177|Lord of Illusions...|              Horror|\n",
      "|    200|Tie That Binds, T...|            Thriller|\n",
      "|    216|Billy Madison (1995)|              Comedy|\n",
      "|    229|Death and the Mai...|      Drama|Thriller|\n",
      "+-------+--------------------+--------------------+\n",
      "only showing top 20 rows\n",
      "\n"
     ]
    }
   ],
   "source": [
    "print(type(movies_full_df))\n",
    "movies_full_df.show()\n",
    "print(type(movies_df))\n",
    "movies_df.show()"
   ]
  },
  {
   "cell_type": "code",
   "execution_count": 7,
   "metadata": {
    "collapsed": true
   },
   "outputs": [],
   "source": [
    "movies_raw_df = movies_full_df\n",
    "ratings_raw_df = ratings_full_df\n",
    "# tags_df = tags_full_df\n",
    "# links_df = links_full_df"
   ]
  },
  {
   "cell_type": "code",
   "execution_count": 8,
   "metadata": {
    "collapsed": true
   },
   "outputs": [],
   "source": [
    "# drop the genres column so we are only working with movie_id, title\n",
    "movies_df = movies_raw_df.drop('genres')\n",
    "\n",
    "# drop the timestamp\n",
    "ratings_df = ratings_raw_df.drop('timestamp')"
   ]
  },
  {
   "cell_type": "markdown",
   "metadata": {},
   "source": [
    "## Selecting ALS parameters using the small dataset"
   ]
  },
  {
   "cell_type": "code",
   "execution_count": 9,
   "metadata": {
    "collapsed": true
   },
   "outputs": [],
   "source": [
    "from pyspark.ml import Pipeline\n",
    "from pyspark.ml.tuning import CrossValidator, ParamGridBuilder\n",
    "from pyspark.ml.evaluation import RegressionEvaluator, BinaryClassificationEvaluator\n",
    "from pyspark.ml.recommendation import ALS\n",
    "from pyspark.sql import Row"
   ]
  },
  {
   "cell_type": "code",
   "execution_count": 10,
   "metadata": {},
   "outputs": [
    {
     "name": "stdout",
     "output_type": "stream",
     "text": [
      "+------+-------+------+\n",
      "|userId|movieId|rating|\n",
      "+------+-------+------+\n",
      "|     1|     31|   2.5|\n",
      "|     1|   1029|   3.0|\n",
      "|     1|   1061|   3.0|\n",
      "|     1|   1129|   2.0|\n",
      "|     1|   1172|   4.0|\n",
      "|     1|   1263|   2.0|\n",
      "|     1|   1287|   2.0|\n",
      "|     1|   1293|   2.0|\n",
      "|     1|   1339|   3.5|\n",
      "|     1|   1343|   2.0|\n",
      "|     1|   1371|   2.5|\n",
      "|     1|   1405|   1.0|\n",
      "|     1|   1953|   4.0|\n",
      "|     1|   2105|   4.0|\n",
      "|     1|   2150|   3.0|\n",
      "|     1|   2193|   2.0|\n",
      "|     1|   2294|   2.0|\n",
      "|     1|   2455|   2.5|\n",
      "|     1|   2968|   1.0|\n",
      "|     1|   3671|   3.0|\n",
      "+------+-------+------+\n",
      "only showing top 20 rows\n",
      "\n"
     ]
    }
   ],
   "source": [
    "ratings_df.show()"
   ]
  },
  {
   "cell_type": "code",
   "execution_count": 11,
   "metadata": {
    "collapsed": true
   },
   "outputs": [],
   "source": [
    "(training, test) = ratings_df.randomSplit([0.8, 0.2])\n",
    "# Build the recommendation model using ALS on the training data\n",
    "\n"
   ]
  },
  {
   "cell_type": "code",
   "execution_count": 12,
   "metadata": {
    "collapsed": true
   },
   "outputs": [],
   "source": [
    "als = ALS(seed=5, maxIter=5, regParam=0.1, rank=4, userCol=\"userId\",itemCol=\"movieId\", ratingCol=\"rating\")\n",
    "model = als.fit(training)"
   ]
  },
  {
   "cell_type": "code",
   "execution_count": 13,
   "metadata": {},
   "outputs": [
    {
     "name": "stdout",
     "output_type": "stream",
     "text": [
      "+------+-------+------+----------+\n",
      "|userId|movieId|rating|prediction|\n",
      "+------+-------+------+----------+\n",
      "|   534|    463|   4.0|  3.768993|\n",
      "|   242|    463|   4.0|  3.821826|\n",
      "|    85|    471|   3.0|  3.279749|\n",
      "|   460|    471|   5.0|   3.88757|\n",
      "|   602|    471|   3.0| 4.1085205|\n",
      "|    92|    471|   4.0| 3.8203726|\n",
      "|   309|    471|   4.0| 4.1995983|\n",
      "|   358|    471|   5.0| 3.8729005|\n",
      "|   487|    471|   4.0| 3.9180155|\n",
      "|   529|    471|   4.0| 3.6788464|\n",
      "|   311|    471|   0.5|  2.716748|\n",
      "|   399|    471|   5.0| 3.4869518|\n",
      "|   296|    833|   4.5| 3.3651454|\n",
      "|   412|    833|   1.0| 2.1878226|\n",
      "|   212|   1088|   3.5|  3.218675|\n",
      "|   500|   1088|   4.0| 3.2485583|\n",
      "|   582|   1088|   3.5| 3.4516826|\n",
      "|   607|   1088|   2.0| 3.4723363|\n",
      "|   505|   1088|   4.0| 2.9556832|\n",
      "|   264|   1088|   4.0| 3.8859043|\n",
      "+------+-------+------+----------+\n",
      "only showing top 20 rows\n",
      "\n",
      "+-------+-----------------+------------------+------------------+----------+\n",
      "|summary|           userId|           movieId|            rating|prediction|\n",
      "+-------+-----------------+------------------+------------------+----------+\n",
      "|  count|            19985|             19985|             19985|     19985|\n",
      "|   mean|347.9088816612459|12396.268051038278| 3.536952714535902|       NaN|\n",
      "| stddev|195.4421107351078|26034.943553528603|1.0665402136992832|       NaN|\n",
      "|    min|                1|                 1|               0.5|-1.6392676|\n",
      "|    max|              671|            162542|               5.0|       NaN|\n",
      "+-------+-----------------+------------------+------------------+----------+\n",
      "\n",
      "None\n",
      "root\n",
      " |-- userId: integer (nullable = true)\n",
      " |-- movieId: integer (nullable = true)\n",
      " |-- rating: double (nullable = true)\n",
      " |-- prediction: float (nullable = true)\n",
      "\n",
      "None\n",
      "Root-mean-square error = 0.9156753265989203\n"
     ]
    }
   ],
   "source": [
    "predictions = model.transform(test)\n",
    "predictions.show()\n",
    "print(predictions.describe().show())\n",
    "\n",
    "# evaluator=BinaryClassificationEvaluator(labelCol='rating', rawPredictionCol='prediction')\n",
    "evaluator = RegressionEvaluator(metricName=\"rmse\", labelCol=\"rating\", predictionCol=\"prediction\")\n",
    "print(predictions.printSchema())\n",
    "rmse = evaluator.evaluate(predictions.dropna())\n",
    "print(\"Root-mean-square error = \" + str(rmse))"
   ]
  },
  {
   "cell_type": "code",
   "execution_count": 14,
   "metadata": {
    "collapsed": true
   },
   "outputs": [],
   "source": [
    "als = ALS(userCol=\"userId\",itemCol=\"movieId\", ratingCol=\"rating\")\n",
    "evaluator = RegressionEvaluator(metricName=\"rmse\", labelCol=\"rating\",\n",
    "                                predictionCol=\"prediction\")\n",
    "\n",
    "seed = 5\n",
    "iterations = [10, 20]\n",
    "regularization_parameter = [0.05, 0.1, 0.2, 0.5]\n",
    "ranks = [4, 8, 12]\n",
    "\n",
    "# errors = [0, 0, 0]\n",
    "# err = 0\n",
    "# tolerance = 0.02\n",
    "\n",
    "# paramGrid = ParamGridBuilder() \\\n",
    "#     .addGrid(als.regParam, regularization_parameter) \\\n",
    "#     .addGrid(als.maxIter, iterations) \\\n",
    "#     .addGrid(als.seed, [seed]) \\\n",
    "#     .addGrid(als.rank, ranks) \\\n",
    "#     .build()\n",
    "    \n",
    "paramGrid = ParamGridBuilder() \\\n",
    "    .addGrid(als.regParam, regularization_parameter) \\\n",
    "    .addGrid(als.maxIter, iterations) \\\n",
    "    .addGrid(als.seed, [seed]) \\\n",
    "    .addGrid(als.rank, ranks) \\\n",
    "    .build()\n",
    "\n",
    "crossval = CrossValidator(estimator=als,\n",
    "                          evaluator = evaluator,\n",
    "                          estimatorParamMaps=paramGrid,\n",
    "                          numFolds=2) "
   ]
  },
  {
   "cell_type": "code",
   "execution_count": 15,
   "metadata": {},
   "outputs": [
    {
     "name": "stdout",
     "output_type": "stream",
     "text": [
      "+------+\n",
      "|userId|\n",
      "+------+\n",
      "|   148|\n",
      "|   463|\n",
      "|   471|\n",
      "|   496|\n",
      "|   243|\n",
      "|   392|\n",
      "|   540|\n",
      "|   623|\n",
      "|    31|\n",
      "|   516|\n",
      "|    85|\n",
      "|   137|\n",
      "|   251|\n",
      "|   451|\n",
      "|   580|\n",
      "|    65|\n",
      "|   458|\n",
      "|    53|\n",
      "|   255|\n",
      "|   481|\n",
      "+------+\n",
      "only showing top 20 rows\n",
      "\n"
     ]
    }
   ],
   "source": [
    "test.registerTempTable('test')\n",
    "tdf = spark.sql('''\n",
    "                SELECT DISTINCT userId\n",
    "                FROM test''')\n",
    "tdf.show()"
   ]
  },
  {
   "cell_type": "code",
   "execution_count": 16,
   "metadata": {
    "collapsed": true
   },
   "outputs": [],
   "source": [
    "# Run lumch cross-validation, and choose the best set of parameters.\n",
    "cvModel = crossval.fit(training)"
   ]
  },
  {
   "cell_type": "code",
   "execution_count": 17,
   "metadata": {},
   "outputs": [
    {
     "name": "stdout",
     "output_type": "stream",
     "text": [
      "Root-mean-square error = 0.9156753265989203\n"
     ]
    }
   ],
   "source": [
    "rmse = evaluator.evaluate(predictions.dropna())\n",
    "print(\"Root-mean-square error = \" + str(rmse))"
   ]
  },
  {
   "cell_type": "code",
   "execution_count": 18,
   "metadata": {},
   "outputs": [
    {
     "data": {
      "text/plain": [
       "ALS_484b8caf75bd85b536e0"
      ]
     },
     "execution_count": 18,
     "metadata": {},
     "output_type": "execute_result"
    }
   ],
   "source": [
    "best_model = cvModel.bestModel\n",
    "best_model"
   ]
  },
  {
   "cell_type": "code",
   "execution_count": 29,
   "metadata": {},
   "outputs": [
    {
     "name": "stdout",
     "output_type": "stream",
     "text": [
      "+------+--------------------+\n",
      "|userId|     recommendations|\n",
      "+------+--------------------+\n",
      "|   471|[[7669,5.406508],...|\n",
      "|   463|[[67504,5.430828]...|\n",
      "|   496|[[8535,5.9998264]...|\n",
      "|   148|[[83411,6.0360246...|\n",
      "|   540|[[7096,6.4437385]...|\n",
      "|   392|[[92494,5.4114256...|\n",
      "|   243|[[83411,5.4076853...|\n",
      "|   623|[[83411,6.1725845...|\n",
      "|    31|[[83411,5.9359956...|\n",
      "|   516|[[67504,5.2222137...|\n",
      "|   580|[[83411,5.1590877...|\n",
      "|   251|[[83411,6.4844513...|\n",
      "|   451|[[5114,5.969368],...|\n",
      "|    85|[[2570,6.077694],...|\n",
      "|   137|[[65188,5.665559]...|\n",
      "|    65|[[4731,6.2018056]...|\n",
      "|   458|[[7669,5.546337],...|\n",
      "|   481|[[67504,6.1706157...|\n",
      "|    53|[[87522,5.7504325...|\n",
      "|   255|[[83411,6.0636168...|\n",
      "+------+--------------------+\n",
      "only showing top 20 rows\n",
      "\n",
      "None\n",
      "+-------+--------------------+\n",
      "|movieId|     recommendations|\n",
      "+-------+--------------------+\n",
      "|   1580|[[46,5.601162], [...|\n",
      "|   5300|[[566,4.5389132],...|\n",
      "|   6620|[[179,4.920983], ...|\n",
      "|   7340|[[156,4.7629623],...|\n",
      "|  32460|[[298,4.8513107],...|\n",
      "|  54190|[[357,5.0493784],...|\n",
      "|    471|[[228,4.9108763],...|\n",
      "|   1591|[[46,4.3967986], ...|\n",
      "|   4101|[[656,5.8438597],...|\n",
      "|   1342|[[156,3.8548775],...|\n",
      "|   2122|[[123,3.9326217],...|\n",
      "|   2142|[[46,5.1975384], ...|\n",
      "|   7982|[[332,3.149242], ...|\n",
      "|  44022|[[46,5.5187254], ...|\n",
      "| 141422|[[46,3.3577518], ...|\n",
      "|    463|[[46,5.282911], [...|\n",
      "|    833|[[46,3.8022933], ...|\n",
      "|   5803|[[653,2.4421399],...|\n",
      "|   7833|[[46,5.9720235], ...|\n",
      "| 160563|[[477,5.128496], ...|\n",
      "+-------+--------------------+\n",
      "only showing top 20 rows\n",
      "\n",
      "None\n"
     ]
    }
   ],
   "source": [
    "predictions = cvModel.transform(test)\n",
    "user_recommendations = model.recommendForAllUsers(10)\n",
    "item_recomendations = model.recommendForAllItems(10)\n",
    "print(user_recommendations.show())\n",
    "print(item_recomendations.show())"
   ]
  },
  {
   "cell_type": "code",
   "execution_count": 30,
   "metadata": {},
   "outputs": [],
   "source": [
    "#more grid searching\n",
    "#scratch notes for filling nans etc. & finding recommendation for a single user\n",
    "\n",
    "als = ALS(userCol=\"userId\",itemCol=\"movieId\", ratingCol=\"rating\")\n",
    "evaluator = RegressionEvaluator(metricName=\"rmse\", labelCol=\"rating\",\n",
    "                                predictionCol=\"prediction\")\n",
    "\n",
    "training = training.fillna(3)\n",
    "test = test.fillna(3)\n",
    "\n",
    "seed = 5\n",
    "iterations = [5, 10]\n",
    "regularization_parameter = [0.1, 0.2]\n",
    "ranks = [4, 8]\n",
    "\n",
    "# errors = [0, 0, 0]\n",
    "# err = 0\n",
    "# tolerance = 0.02\n",
    "\n",
    "# paramGrid = ParamGridBuilder() \\\n",
    "#     .addGrid(als.regParam, regularization_parameter) \\\n",
    "#     .addGrid(als.maxIter, iterations) \\\n",
    "#     .addGrid(als.seed, [seed]) \\\n",
    "#     .addGrid(als.rank, ranks) \\\n",
    "#     .build()\n",
    "    \n",
    "paramGrid = ParamGridBuilder() \\\n",
    "    .addGrid(als.regParam, regularization_parameter) \\\n",
    "    .addGrid(als.maxIter, iterations) \\\n",
    "    .addGrid(als.seed, [seed]) \\\n",
    "    .addGrid(als.rank, ranks) \\\n",
    "    .build()\n",
    "\n",
    "crossval = CrossValidator(estimator=als,\n",
    "                          evaluator = evaluator,\n",
    "                          estimatorParamMaps=paramGrid,\n",
    "                          numFolds=10)\n",
    "\n",
    "new_cvModel = crossval.fit(training)"
   ]
  },
  {
   "cell_type": "code",
   "execution_count": 31,
   "metadata": {},
   "outputs": [
    {
     "name": "stdout",
     "output_type": "stream",
     "text": [
      "0.9537639387657043\n",
      "ALS_4f7794d4eb4c9942343d\n"
     ]
    }
   ],
   "source": [
    "new_predictions = new_cvModel.transform(test)\n",
    "rmse = evaluator.evaluate(predictions.dropna())\n",
    "print(rmse)\n",
    "\n",
    "grid_search_best_model = new_cvModel.bestModel\n",
    "print (grid_search_best_model)"
   ]
  },
  {
   "cell_type": "code",
   "execution_count": 32,
   "metadata": {},
   "outputs": [
    {
     "name": "stdout",
     "output_type": "stream",
     "text": [
      "+-------+------+------+--------------------+\n",
      "|movieId|userId|rating|               title|\n",
      "+-------+------+------+--------------------+\n",
      "|     31|     1|   2.5|Dangerous Minds (...|\n",
      "|   1029|     1|   3.0|        Dumbo (1941)|\n",
      "|   1061|     1|   3.0|     Sleepers (1996)|\n",
      "|   1129|     1|   2.0|Escape from New Y...|\n",
      "|   1172|     1|   4.0|Cinema Paradiso (...|\n",
      "|   1263|     1|   2.0|Deer Hunter, The ...|\n",
      "|   1287|     1|   2.0|      Ben-Hur (1959)|\n",
      "|   1293|     1|   2.0|       Gandhi (1982)|\n",
      "|   1339|     1|   3.5|Dracula (Bram Sto...|\n",
      "|   1343|     1|   2.0|    Cape Fear (1991)|\n",
      "|   1371|     1|   2.5|Star Trek: The Mo...|\n",
      "|   1405|     1|   1.0|Beavis and Butt-H...|\n",
      "|   1953|     1|   4.0|French Connection...|\n",
      "|   2105|     1|   4.0|         Tron (1982)|\n",
      "|   2150|     1|   3.0|Gods Must Be Craz...|\n",
      "|   2193|     1|   2.0|       Willow (1988)|\n",
      "|   2294|     1|   2.0|         Antz (1998)|\n",
      "|   2455|     1|   2.5|     Fly, The (1986)|\n",
      "|   2968|     1|   1.0| Time Bandits (1981)|\n",
      "|   3671|     1|   3.0|Blazing Saddles (...|\n",
      "+-------+------+------+--------------------+\n",
      "only showing top 20 rows\n",
      "\n"
     ]
    }
   ],
   "source": [
    "movies_user = ratings_df.join(movies_df, ['movieId'])\n",
    "movies_user.show()"
   ]
  },
  {
   "cell_type": "code",
   "execution_count": 33,
   "metadata": {},
   "outputs": [
    {
     "name": "stdout",
     "output_type": "stream",
     "text": [
      "+------+\n",
      "|userId|\n",
      "+------+\n",
      "|     1|\n",
      "|     2|\n",
      "|     3|\n",
      "|     4|\n",
      "|     5|\n",
      "|     6|\n",
      "|     7|\n",
      "|     8|\n",
      "|     9|\n",
      "|    10|\n",
      "|    11|\n",
      "|    12|\n",
      "|    13|\n",
      "|    14|\n",
      "|    15|\n",
      "|    16|\n",
      "|    17|\n",
      "|    18|\n",
      "|    19|\n",
      "|    20|\n",
      "+------+\n",
      "only showing top 20 rows\n",
      "\n",
      "671\n",
      "9066\n",
      "+-------+--------------------+\n",
      "|movieId|               title|\n",
      "+-------+--------------------+\n",
      "|      1|    Toy Story (1995)|\n",
      "|      2|      Jumanji (1995)|\n",
      "|      3|Grumpier Old Men ...|\n",
      "|      4|Waiting to Exhale...|\n",
      "|      5|Father of the Bri...|\n",
      "|      6|         Heat (1995)|\n",
      "|      7|      Sabrina (1995)|\n",
      "|      8| Tom and Huck (1995)|\n",
      "|      9| Sudden Death (1995)|\n",
      "|     10|    GoldenEye (1995)|\n",
      "|     11|American Presiden...|\n",
      "|     12|Dracula: Dead and...|\n",
      "|     13|        Balto (1995)|\n",
      "|     14|        Nixon (1995)|\n",
      "|     15|Cutthroat Island ...|\n",
      "|     16|       Casino (1995)|\n",
      "|     17|Sense and Sensibi...|\n",
      "|     18|   Four Rooms (1995)|\n",
      "|     19|Ace Ventura: When...|\n",
      "|     20|  Money Train (1995)|\n",
      "+-------+--------------------+\n",
      "only showing top 20 rows\n",
      "\n"
     ]
    }
   ],
   "source": [
    "movies_user.registerTempTable('movies_user_sql')\n",
    "\n",
    "distinct_user_id = spark.sql('''\n",
    "                            SELECT DISTINCT userId FROM movies_user_sql ORDER BY userId''')\n",
    "distinct_user_id.show()\n",
    "print(distinct_user_id.count())\n",
    "\n",
    "distinct_movie_id = spark.sql('''\n",
    "                            SELECT DISTINCT movieId, title FROM movies_user_sql ORDER BY movieId''')\n",
    "print(distinct_movie_id.count())\n",
    "distinct_movie_id.show()\n",
    "\n",
    "userid_rdd = distinct_user_id.rdd\n",
    "movie_rdd = distinct_movie_id.rdd"
   ]
  },
  {
   "cell_type": "code",
   "execution_count": 34,
   "metadata": {},
   "outputs": [
    {
     "data": {
      "text/plain": [
       "[Row(movieId=31, userId=1, rating=2.5, title='Dangerous Minds (1995)'),\n",
       " Row(movieId=1029, userId=1, rating=3.0, title='Dumbo (1941)'),\n",
       " Row(movieId=1061, userId=1, rating=3.0, title='Sleepers (1996)'),\n",
       " Row(movieId=1129, userId=1, rating=2.0, title='Escape from New York (1981)'),\n",
       " Row(movieId=1172, userId=1, rating=4.0, title='Cinema Paradiso (Nuovo cinema Paradiso) (1989)')]"
      ]
     },
     "execution_count": 34,
     "metadata": {},
     "output_type": "execute_result"
    }
   ],
   "source": [
    "rdd = movies_user.rdd\n",
    "rdd.take(5)"
   ]
  },
  {
   "cell_type": "code",
   "execution_count": 35,
   "metadata": {},
   "outputs": [
    {
     "name": "stdout",
     "output_type": "stream",
     "text": [
      "+-------+------+------+--------------------+\n",
      "|movieId|userId|rating|               title|\n",
      "+-------+------+------+--------------------+\n",
      "|     31|     1|   2.5|Dangerous Minds (...|\n",
      "|   1029|     1|   3.0|        Dumbo (1941)|\n",
      "|   1061|     1|   3.0|     Sleepers (1996)|\n",
      "|   1129|     1|   2.0|Escape from New Y...|\n",
      "|   1172|     1|   4.0|Cinema Paradiso (...|\n",
      "|   1263|     1|   2.0|Deer Hunter, The ...|\n",
      "|   1287|     1|   2.0|      Ben-Hur (1959)|\n",
      "|   1293|     1|   2.0|       Gandhi (1982)|\n",
      "|   1339|     1|   3.5|Dracula (Bram Sto...|\n",
      "|   1343|     1|   2.0|    Cape Fear (1991)|\n",
      "|   1371|     1|   2.5|Star Trek: The Mo...|\n",
      "|   1405|     1|   1.0|Beavis and Butt-H...|\n",
      "|   1953|     1|   4.0|French Connection...|\n",
      "|   2105|     1|   4.0|         Tron (1982)|\n",
      "|   2150|     1|   3.0|Gods Must Be Craz...|\n",
      "|   2193|     1|   2.0|       Willow (1988)|\n",
      "|   2294|     1|   2.0|         Antz (1998)|\n",
      "|   2455|     1|   2.5|     Fly, The (1986)|\n",
      "|   2968|     1|   1.0| Time Bandits (1981)|\n",
      "|   3671|     1|   3.0|Blazing Saddles (...|\n",
      "+-------+------+------+--------------------+\n",
      "\n"
     ]
    }
   ],
   "source": [
    "user_id = 1\n",
    "\n",
    "movies_rated = movies_user.where(movies_user.userId==user_id)\n",
    "movies_rated.show(25)\n"
   ]
  },
  {
   "cell_type": "code",
   "execution_count": 36,
   "metadata": {},
   "outputs": [
    {
     "name": "stdout",
     "output_type": "stream",
     "text": [
      "+-------+--------------------+\n",
      "|movieId|               title|\n",
      "+-------+--------------------+\n",
      "|    148|Awfully Big Adven...|\n",
      "|    463|Guilty as Sin (1993)|\n",
      "|    471|Hudsucker Proxy, ...|\n",
      "|    496|What Happened Was...|\n",
      "|    833|High School High ...|\n",
      "|   1088|Dirty Dancing (1987)|\n",
      "|   1238|   Local Hero (1983)|\n",
      "|   1342|     Candyman (1992)|\n",
      "|   1580|Men in Black (a.k...|\n",
      "|   1591|        Spawn (1997)|\n",
      "|   1645|The Devil's Advoc...|\n",
      "|   1959|Out of Africa (1985)|\n",
      "|   2122|Children of the C...|\n",
      "|   2142|American Tail: Fi...|\n",
      "|   2366|    King Kong (1933)|\n",
      "|   2659|It Came from Holl...|\n",
      "|   2866|Buddy Holly Story...|\n",
      "|   3175| Galaxy Quest (1999)|\n",
      "|   3794| Chuck & Buck (2000)|\n",
      "|   3918|Hellbound: Hellra...|\n",
      "+-------+--------------------+\n",
      "only showing top 20 rows\n",
      "\n"
     ]
    }
   ],
   "source": [
    "movies_rated.registerTempTable('movies_rated_sql')\n",
    "distinct_movie_id.registerTempTable('d_movie_id')\n",
    "\n",
    "movies_not_rated = spark.sql('''\n",
    "                            SELECT d_movie_id.movieId, d_movie_id.title\n",
    "                            FROM d_movie_id\n",
    "                            LEFT JOIN movies_rated_sql\n",
    "                            ON d_movie_id.movieId = movies_rated_sql.movieId\n",
    "                            WHERE movies_rated_sql.userId IS NULL\n",
    "                            ''')\n",
    "movies_not_rated.show()"
   ]
  },
  {
   "cell_type": "code",
   "execution_count": 37,
   "metadata": {},
   "outputs": [
    {
     "name": "stdout",
     "output_type": "stream",
     "text": [
      "+------+-------+------+----------+\n",
      "|userId|movieId|rating|prediction|\n",
      "+------+-------+------+----------+\n",
      "|   534|    463|   4.0| 4.1284094|\n",
      "|   242|    463|   4.0| 3.7865186|\n",
      "|    85|    471|   3.0| 3.1321955|\n",
      "|   460|    471|   5.0| 3.8541195|\n",
      "|   602|    471|   3.0|  4.327158|\n",
      "|    92|    471|   4.0| 3.8575947|\n",
      "|   309|    471|   4.0| 4.2382703|\n",
      "|   358|    471|   5.0| 3.9551108|\n",
      "|   487|    471|   4.0| 3.7404592|\n",
      "|   529|    471|   4.0| 3.8283744|\n",
      "|   311|    471|   0.5|  2.510409|\n",
      "|   399|    471|   5.0| 3.5116353|\n",
      "|   296|    833|   4.5|  4.468324|\n",
      "|   412|    833|   1.0| 1.4515231|\n",
      "|   212|   1088|   3.5| 3.2614427|\n",
      "|   500|   1088|   4.0| 3.3545737|\n",
      "|   582|   1088|   3.5| 3.3808362|\n",
      "|   607|   1088|   2.0| 3.4734614|\n",
      "|   505|   1088|   4.0| 3.0011072|\n",
      "|   264|   1088|   4.0| 3.8867025|\n",
      "+------+-------+------+----------+\n",
      "only showing top 20 rows\n",
      "\n",
      "+--------------------+----------+\n",
      "|               title|prediction|\n",
      "+--------------------+----------+\n",
      "|Smokey and the Ba...| 6.1444435|\n",
      "|First Strike (Pol...| 6.0589848|\n",
      "|That Darn Cat (1997)|  6.041317|\n",
      "|Robin Hood: Princ...| 5.8734055|\n",
      "|Shawshank Redempt...| 5.8523426|\n",
      "|Purple Rose of Ca...|  5.849406|\n",
      "|  Dersu Uzala (1975)| 5.8322515|\n",
      "|Stardust Memories...|  5.816951|\n",
      "|Fantastic Mr. Fox...|  5.810933|\n",
      "|   8 1/2 (8½) (1963)| 5.7469225|\n",
      "+--------------------+----------+\n",
      "\n"
     ]
    }
   ],
   "source": [
    "pred_drop_nan = predictions.dropna()\n",
    "pred_drop_nan.show()\n",
    "\n",
    "pred_drop_nan.registerTempTable('predictions_sql')\n",
    "movies_not_rated.registerTempTable('movies_not_rated_sql')\n",
    "\n",
    "top_preds = spark.sql('''\n",
    "                        SELECT movies_not_rated_sql.title, predictions_sql.prediction\n",
    "                        FROM predictions_sql\n",
    "                        JOIN movies_not_rated_sql\n",
    "                        ON predictions_sql.movieId=movies_not_rated_sql.movieId\n",
    "                        ORDER BY predictions_sql.prediction DESC\n",
    "                        LIMIT 10''')\n",
    "top_preds.show()"
   ]
  },
  {
   "cell_type": "code",
   "execution_count": 38,
   "metadata": {},
   "outputs": [
    {
     "name": "stdout",
     "output_type": "stream",
     "text": [
      "2\n",
      "Movies not rated\n",
      "8990\n",
      "root\n",
      " |-- userId: integer (nullable = true)\n",
      " |-- movieId: integer (nullable = true)\n",
      " |-- rating: double (nullable = true)\n",
      " |-- prediction: float (nullable = true)\n",
      "\n",
      "22\n",
      "+-----+----------+------+\n",
      "|title|prediction|userId|\n",
      "+-----+----------+------+\n",
      "+-----+----------+------+\n",
      "\n"
     ]
    }
   ],
   "source": [
    "user_id = 2\n",
    "\n",
    "movies_user = ratings_df.join(movies_df, ['movieId'])\n",
    "movies_user.count()\n",
    "distinct_movie_id = spark.sql('''\n",
    "                            SELECT DISTINCT movieId, title\n",
    "                            FROM movies_user_sql\n",
    "                            ORDER BY movieId''')\n",
    "distinct_movie_id.count()\n",
    "print(user_id)\n",
    "movies_rated = movies_user.where(movies_user.userId==user_id)\n",
    "movies_rated.count()\n",
    "movies_rated.registerTempTable('movies_rated_sql')\n",
    "distinct_movie_id.registerTempTable('d_movie_id')\n",
    "movies_not_rated = spark.sql('''\n",
    "                            SELECT d_movie_id.movieId, d_movie_id.title\n",
    "                            FROM d_movie_id\n",
    "                            LEFT JOIN movies_rated_sql\n",
    "                            ON d_movie_id.movieId = movies_rated_sql.movieId\n",
    "                            WHERE movies_rated_sql.userId IS NULL\n",
    "                            ''')\n",
    "print('Movies not rated')\n",
    "print(movies_not_rated.count())\n",
    "pred_drop_nan = predictions.dropna()\n",
    "pred_drop_nan.printSchema()\n",
    "pred_drop_nan.registerTempTable('predictions_sql')\n",
    "movies_not_rated.registerTempTable('movies_not_rated_sql')\n",
    "\n",
    "tp = spark.sql('''\n",
    "                SELECT predictions_sql.prediction, predictions_sql.userId \n",
    "                FROM predictions_sql\n",
    "                WHERE userId=2\n",
    "                ''')\n",
    "print(tp.count())\n",
    "top_preds = spark.sql('''\n",
    "                        SELECT movies_not_rated_sql.title, predictions_sql.prediction, predictions_sql.userId\n",
    "                        FROM predictions_sql\n",
    "                        JOIN movies_not_rated_sql\n",
    "                        ON predictions_sql.movieId=movies_not_rated_sql.movieId\n",
    "                        WHERE predictions_sql.userId=2\n",
    "                        ORDER BY predictions_sql.prediction DESC\n",
    "                        LIMIT 10''')\n",
    "top_preds.show()\n",
    "#This won't work because predictions is a sparse matrix"
   ]
  }
 ],
 "metadata": {
  "kernelspec": {
   "display_name": "Python 3",
   "language": "python",
   "name": "python3"
  }
 },
 "nbformat": 4,
 "nbformat_minor": 1
}
